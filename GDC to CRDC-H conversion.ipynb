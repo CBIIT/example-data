{
 "cells": [
  {
   "cell_type": "markdown",
   "id": "abd7d977",
   "metadata": {},
   "source": [
    "# GDC to CRDC-H Conversion\n",
    "\n",
    "This notebook demonstrates one method for converting GDC data into CRDC-H instance data: by reading node data as JSON and writing it out in the LinkML model. The LinkML can be used to [generate](https://github.com/linkml/linkml#python-dataclasses) [Python DataClasses](https://docs.python.org/3/library/dataclasses.html), which can then be exported in several data publication format, such as JSON or RDF."
   ]
  },
  {
   "cell_type": "markdown",
   "id": "27b94e6a",
   "metadata": {},
   "source": [
    "## Setup\n",
    "\n",
    "We start by installing the [LinkML](https://pypi.org/project/linkml/) and [pandas](https://pypi.org/project/pandas/) packages."
   ]
  },
  {
   "cell_type": "code",
   "execution_count": 2,
   "id": "0b848016",
   "metadata": {},
   "outputs": [
    {
     "name": "stdout",
     "output_type": "stream",
     "text": [
      "Collecting git+https://github.com/linkml/linkml.git\n",
      "  Cloning https://github.com/linkml/linkml.git to /private/var/folders/j7/wl1qrc1n7fv9vnszw_0dsm680000gn/T/pip-req-build-q_zak21a\n",
      "  Running command git clone -q https://github.com/linkml/linkml.git /private/var/folders/j7/wl1qrc1n7fv9vnszw_0dsm680000gn/T/pip-req-build-q_zak21a\n",
      "  Installing build dependencies ... \u001b[?25ldone\n",
      "\u001b[?25h  Getting requirements to build wheel ... \u001b[?25ldone\n",
      "\u001b[?25h  Installing backend dependencies ... \u001b[?25ldone\n",
      "\u001b[?25h    Preparing wheel metadata ... \u001b[?25ldone\n",
      "\u001b[?25hRequirement already satisfied: pyshex>=0.7.20 in /usr/local/Cellar/jupyterlab/3.0.14/libexec/lib/python3.9/site-packages (from linkml==0.0.8.dev37) (0.7.20)\n",
      "Requirement already satisfied: graphviz>=0.10.1 in /usr/local/Cellar/jupyterlab/3.0.14/libexec/lib/python3.9/site-packages (from linkml==0.0.8.dev37) (0.16)\n",
      "Requirement already satisfied: python-dateutil in /usr/local/Cellar/jupyterlab/3.0.14/libexec/lib/python3.9/site-packages (from linkml==0.0.8.dev37) (2.8.1)\n",
      "Collecting argparse>=1.4.0\n",
      "  Using cached argparse-1.4.0-py2.py3-none-any.whl (23 kB)\n",
      "Requirement already satisfied: rdflib>=5.0.0 in /usr/local/Cellar/jupyterlab/3.0.14/libexec/lib/python3.9/site-packages (from linkml==0.0.8.dev37) (5.0.0)\n",
      "Requirement already satisfied: rdflib-jsonld>=0.5.0 in /usr/local/Cellar/jupyterlab/3.0.14/libexec/lib/python3.9/site-packages (from linkml==0.0.8.dev37) (0.5.0)\n",
      "Requirement already satisfied: jsonasobj>=1.3.1 in /usr/local/Cellar/jupyterlab/3.0.14/libexec/lib/python3.9/site-packages (from linkml==0.0.8.dev37) (1.3.1)\n",
      "Requirement already satisfied: jsonschema>=3.0.1 in /usr/local/Cellar/jupyterlab/3.0.14/libexec/lib/python3.9/site-packages (from linkml==0.0.8.dev37) (3.2.0)\n",
      "Requirement already satisfied: click~=7.0 in /usr/local/Cellar/jupyterlab/3.0.14/libexec/lib/python3.9/site-packages (from linkml==0.0.8.dev37) (7.1.2)\n",
      "Requirement already satisfied: watchdog>=0.9.0 in /usr/local/Cellar/jupyterlab/3.0.14/libexec/lib/python3.9/site-packages (from linkml==0.0.8.dev37) (2.0.3)\n",
      "Requirement already satisfied: parse in /usr/local/Cellar/jupyterlab/3.0.14/libexec/lib/python3.9/site-packages (from linkml==0.0.8.dev37) (1.19.0)\n",
      "Collecting sqlalchemy\n",
      "  Downloading SQLAlchemy-1.4.11-cp39-cp39-macosx_10_14_x86_64.whl (1.5 MB)\n",
      "\u001b[K     |████████████████████████████████| 1.5 MB 2.3 MB/s eta 0:00:01\n",
      "\u001b[?25hRequirement already satisfied: isodate>=0.6.0 in /usr/local/Cellar/jupyterlab/3.0.14/libexec/lib/python3.9/site-packages (from linkml==0.0.8.dev37) (0.6.0)\n",
      "Requirement already satisfied: rdflib-pyld-compat in /usr/local/Cellar/jupyterlab/3.0.14/libexec/lib/python3.9/site-packages (from linkml==0.0.8.dev37) (0.1.0)\n",
      "Requirement already satisfied: pyyaml~=5.1 in /usr/local/Cellar/jupyterlab/3.0.14/libexec/lib/python3.9/site-packages (from linkml==0.0.8.dev37) (5.4.1)\n",
      "Requirement already satisfied: prefixcommons>=0.1.7 in /usr/local/Cellar/jupyterlab/3.0.14/libexec/lib/python3.9/site-packages (from linkml==0.0.8.dev37) (0.1.9)\n",
      "Requirement already satisfied: requests>=2.22 in /usr/local/Cellar/jupyterlab/3.0.14/libexec/lib/python3.9/site-packages (from linkml==0.0.8.dev37) (2.25.1)\n",
      "Requirement already satisfied: hbreader in /usr/local/Cellar/jupyterlab/3.0.14/libexec/lib/python3.9/site-packages (from linkml==0.0.8.dev37) (0.9.1)\n",
      "Requirement already satisfied: pyjsg>=0.11.6 in /usr/local/Cellar/jupyterlab/3.0.14/libexec/lib/python3.9/site-packages (from linkml==0.0.8.dev37) (0.11.6)\n",
      "Requirement already satisfied: prologterms>=0.0.6 in /usr/local/Cellar/jupyterlab/3.0.14/libexec/lib/python3.9/site-packages (from linkml==0.0.8.dev37) (0.0.6)\n",
      "Requirement already satisfied: linkml-model>=0.0.10 in /usr/local/Cellar/jupyterlab/3.0.14/libexec/lib/python3.9/site-packages (from linkml==0.0.8.dev37) (0.0.10)\n",
      "Requirement already satisfied: pyld in /usr/local/Cellar/jupyterlab/3.0.14/libexec/lib/python3.9/site-packages (from linkml==0.0.8.dev37) (2.0.3)\n",
      "Requirement already satisfied: pyshexc>=0.8.3 in /usr/local/Cellar/jupyterlab/3.0.14/libexec/lib/python3.9/site-packages (from linkml==0.0.8.dev37) (0.8.3)\n",
      "Requirement already satisfied: six in /usr/local/Cellar/jupyterlab/3.0.14/libexec/lib/python3.9/site-packages (from isodate>=0.6.0->linkml==0.0.8.dev37) (1.15.0)\n",
      "Requirement already satisfied: pyrsistent>=0.14.0 in /usr/local/Cellar/jupyterlab/3.0.14/libexec/lib/python3.9/site-packages (from jsonschema>=3.0.1->linkml==0.0.8.dev37) (0.17.3)\n",
      "Requirement already satisfied: setuptools in /usr/local/Cellar/jupyterlab/3.0.14/libexec/lib/python3.9/site-packages (from jsonschema>=3.0.1->linkml==0.0.8.dev37) (54.2.0)\n",
      "Requirement already satisfied: attrs>=17.4.0 in /usr/local/Cellar/jupyterlab/3.0.14/libexec/lib/python3.9/site-packages (from jsonschema>=3.0.1->linkml==0.0.8.dev37) (20.3.0)\n",
      "Requirement already satisfied: antlr4-python3-runtime~=4.9 in /usr/local/Cellar/jupyterlab/3.0.14/libexec/lib/python3.9/site-packages (from pyjsg>=0.11.6->linkml==0.0.8.dev37) (4.9.2)\n",
      "Requirement already satisfied: cfgraph>=0.2.1 in /usr/local/Cellar/jupyterlab/3.0.14/libexec/lib/python3.9/site-packages (from pyshex>=0.7.20->linkml==0.0.8.dev37) (0.2.1)\n",
      "Requirement already satisfied: sparqlwrapper>=1.8.5 in /usr/local/Cellar/jupyterlab/3.0.14/libexec/lib/python3.9/site-packages (from pyshex>=0.7.20->linkml==0.0.8.dev37) (1.8.5)\n",
      "Requirement already satisfied: shexjsg>=0.7.1 in /usr/local/Cellar/jupyterlab/3.0.14/libexec/lib/python3.9/site-packages (from pyshex>=0.7.20->linkml==0.0.8.dev37) (0.7.1)\n",
      "Requirement already satisfied: sparqlslurper~=0.4 in /usr/local/Cellar/jupyterlab/3.0.14/libexec/lib/python3.9/site-packages (from pyshex>=0.7.20->linkml==0.0.8.dev37) (0.4.1)\n",
      "Requirement already satisfied: urllib3 in /usr/local/Cellar/jupyterlab/3.0.14/libexec/lib/python3.9/site-packages (from pyshex>=0.7.20->linkml==0.0.8.dev37) (1.26.4)\n",
      "Requirement already satisfied: pyparsing in /usr/local/Cellar/jupyterlab/3.0.14/libexec/lib/python3.9/site-packages (from rdflib>=5.0.0->linkml==0.0.8.dev37) (2.4.7)\n",
      "Requirement already satisfied: idna<3,>=2.5 in /usr/local/Cellar/jupyterlab/3.0.14/libexec/lib/python3.9/site-packages (from requests>=2.22->linkml==0.0.8.dev37) (2.10)\n",
      "Requirement already satisfied: chardet<5,>=3.0.2 in /usr/local/Cellar/jupyterlab/3.0.14/libexec/lib/python3.9/site-packages (from requests>=2.22->linkml==0.0.8.dev37) (4.0.0)\n",
      "Requirement already satisfied: certifi>=2017.4.17 in /usr/local/Cellar/jupyterlab/3.0.14/libexec/lib/python3.9/site-packages (from requests>=2.22->linkml==0.0.8.dev37) (2020.12.5)\n",
      "Requirement already satisfied: frozendict in /usr/local/Cellar/jupyterlab/3.0.14/libexec/lib/python3.9/site-packages (from pyld->linkml==0.0.8.dev37) (1.2)\n",
      "Requirement already satisfied: lxml in /usr/local/Cellar/jupyterlab/3.0.14/libexec/lib/python3.9/site-packages (from pyld->linkml==0.0.8.dev37) (4.6.3)\n",
      "Requirement already satisfied: cachetools in /usr/local/Cellar/jupyterlab/3.0.14/libexec/lib/python3.9/site-packages (from pyld->linkml==0.0.8.dev37) (4.2.1)\n",
      "Requirement already satisfied: testfixtures in /usr/local/Cellar/jupyterlab/3.0.14/libexec/lib/python3.9/site-packages (from rdflib-pyld-compat->linkml==0.0.8.dev37) (6.17.1)\n",
      "Collecting greenlet!=0.4.17\n",
      "  Downloading greenlet-1.0.0-cp39-cp39-macosx_10_14_x86_64.whl (86 kB)\n",
      "\u001b[K     |████████████████████████████████| 86 kB 3.3 MB/s eta 0:00:01\n",
      "\u001b[?25hBuilding wheels for collected packages: linkml\n",
      "  Building wheel for linkml (PEP 517) ... \u001b[?25ldone\n",
      "\u001b[?25h  Created wheel for linkml: filename=linkml-0.0.8.dev37-py3-none-any.whl size=134692 sha256=ee22dd7d7ad5d2b40a5e89d87141954e381ce8e1ca08ff5d7f933158e86a1f64\n",
      "  Stored in directory: /private/var/folders/j7/wl1qrc1n7fv9vnszw_0dsm680000gn/T/pip-ephem-wheel-cache-s1j9sjb7/wheels/21/05/05/1c80d4ffd52d0f4008be23eb9f6ee8f487b736afef324dbf19\n",
      "Successfully built linkml\n",
      "Installing collected packages: greenlet, sqlalchemy, argparse, linkml\n",
      "  Attempting uninstall: linkml\n",
      "    Found existing installation: linkml 0.0.7\n",
      "    Uninstalling linkml-0.0.7:\n",
      "      Successfully uninstalled linkml-0.0.7\n",
      "Successfully installed argparse-1.4.0 greenlet-1.0.0 linkml-0.0.8.dev37 sqlalchemy-1.4.11\n",
      "Requirement already satisfied: pandas in /usr/local/Cellar/jupyterlab/3.0.14/libexec/lib/python3.9/site-packages (1.2.4)\n",
      "Requirement already satisfied: python-dateutil>=2.7.3 in /usr/local/Cellar/jupyterlab/3.0.14/libexec/lib/python3.9/site-packages (from pandas) (2.8.1)\n",
      "Requirement already satisfied: numpy>=1.16.5 in /usr/local/Cellar/jupyterlab/3.0.14/libexec/lib/python3.9/site-packages (from pandas) (1.20.2)\n",
      "Requirement already satisfied: pytz>=2017.3 in /usr/local/Cellar/jupyterlab/3.0.14/libexec/lib/python3.9/site-packages (from pandas) (2021.1)\n",
      "Requirement already satisfied: six>=1.5 in /usr/local/Cellar/jupyterlab/3.0.14/libexec/lib/python3.9/site-packages (from python-dateutil>=2.7.3->pandas) (1.15.0)\n"
     ]
    }
   ],
   "source": [
    "import sys\n",
    "\n",
    "# Install LinkML.\n",
    "!{sys.executable} -m pip install git+https://github.com/linkml/linkml.git\n",
    "\n",
    "# Install pandas.\n",
    "!{sys.executable} -m pip install pandas"
   ]
  },
  {
   "cell_type": "markdown",
   "id": "a6afbfa0",
   "metadata": {},
   "source": [
    "## Loading GDC data as an example\n",
    "\n",
    "We start by loading the result of a GDC query in JSON."
   ]
  },
  {
   "cell_type": "code",
   "execution_count": 19,
   "id": "8e146c12",
   "metadata": {},
   "outputs": [
    {
     "data": {
      "text/html": [
       "<div>\n",
       "<style scoped>\n",
       "    .dataframe tbody tr th:only-of-type {\n",
       "        vertical-align: middle;\n",
       "    }\n",
       "\n",
       "    .dataframe tbody tr th {\n",
       "        vertical-align: top;\n",
       "    }\n",
       "\n",
       "    .dataframe thead th {\n",
       "        text-align: right;\n",
       "    }\n",
       "</style>\n",
       "<table border=\"1\" class=\"dataframe\">\n",
       "  <thead>\n",
       "    <tr style=\"text-align: right;\">\n",
       "      <th></th>\n",
       "      <th>aliquot_ids</th>\n",
       "      <th>case_id</th>\n",
       "      <th>created_datetime</th>\n",
       "      <th>days_to_lost_to_followup</th>\n",
       "      <th>diagnoses</th>\n",
       "      <th>diagnosis_ids</th>\n",
       "      <th>disease_type</th>\n",
       "      <th>id</th>\n",
       "      <th>index_date</th>\n",
       "      <th>lost_to_followup</th>\n",
       "      <th>primary_site</th>\n",
       "      <th>sample_ids</th>\n",
       "      <th>samples</th>\n",
       "      <th>state</th>\n",
       "      <th>submitter_aliquot_ids</th>\n",
       "      <th>submitter_diagnosis_ids</th>\n",
       "      <th>submitter_id</th>\n",
       "      <th>submitter_sample_ids</th>\n",
       "      <th>updated_datetime</th>\n",
       "    </tr>\n",
       "  </thead>\n",
       "  <tbody>\n",
       "    <tr>\n",
       "      <th>0</th>\n",
       "      <td>[0d8adcbf-13f0-48c3-83df-3fa205b79ae8, 9250d96...</td>\n",
       "      <td>c5421e34-e5c7-4ba5-aed9-146a5575fd8d</td>\n",
       "      <td>2017-01-25T15:29:16.160843-06:00</td>\n",
       "      <td>None</td>\n",
       "      <td>[{'age_at_diagnosis': None, 'ajcc_clinical_m':...</td>\n",
       "      <td>[7b8d36ba-ab84-48ad-ac2c-11ac40d3d0eb]</td>\n",
       "      <td>Adenomas and Adenocarcinomas</td>\n",
       "      <td>c5421e34-e5c7-4ba5-aed9-146a5575fd8d</td>\n",
       "      <td>None</td>\n",
       "      <td>None</td>\n",
       "      <td>Colon</td>\n",
       "      <td>[4591a53d-5668-4a70-b44b-e08a3d59267e, b12c257...</td>\n",
       "      <td>[{'biospecimen_anatomic_site': None, 'biospeci...</td>\n",
       "      <td>released</td>\n",
       "      <td>[f69deaeb-6b6f-4c61-8900-fd0f26_D7_1, 60805d52...</td>\n",
       "      <td>[09CO022-DX]</td>\n",
       "      <td>09CO022</td>\n",
       "      <td>[f69deaeb-6b6f-4c61-8900-fd0f26, 60805d52-8ca1...</td>\n",
       "      <td>2019-10-24T07:59:21.887408-05:00</td>\n",
       "    </tr>\n",
       "  </tbody>\n",
       "</table>\n",
       "</div>"
      ],
      "text/plain": [
       "                                         aliquot_ids  \\\n",
       "0  [0d8adcbf-13f0-48c3-83df-3fa205b79ae8, 9250d96...   \n",
       "\n",
       "                                case_id                  created_datetime  \\\n",
       "0  c5421e34-e5c7-4ba5-aed9-146a5575fd8d  2017-01-25T15:29:16.160843-06:00   \n",
       "\n",
       "  days_to_lost_to_followup                                          diagnoses  \\\n",
       "0                     None  [{'age_at_diagnosis': None, 'ajcc_clinical_m':...   \n",
       "\n",
       "                            diagnosis_ids                  disease_type  \\\n",
       "0  [7b8d36ba-ab84-48ad-ac2c-11ac40d3d0eb]  Adenomas and Adenocarcinomas   \n",
       "\n",
       "                                     id index_date lost_to_followup  \\\n",
       "0  c5421e34-e5c7-4ba5-aed9-146a5575fd8d       None             None   \n",
       "\n",
       "  primary_site                                         sample_ids  \\\n",
       "0        Colon  [4591a53d-5668-4a70-b44b-e08a3d59267e, b12c257...   \n",
       "\n",
       "                                             samples     state  \\\n",
       "0  [{'biospecimen_anatomic_site': None, 'biospeci...  released   \n",
       "\n",
       "                               submitter_aliquot_ids submitter_diagnosis_ids  \\\n",
       "0  [f69deaeb-6b6f-4c61-8900-fd0f26_D7_1, 60805d52...            [09CO022-DX]   \n",
       "\n",
       "  submitter_id                               submitter_sample_ids  \\\n",
       "0      09CO022  [f69deaeb-6b6f-4c61-8900-fd0f26, 60805d52-8ca1...   \n",
       "\n",
       "                   updated_datetime  \n",
       "0  2019-10-24T07:59:21.887408-05:00  "
      ]
     },
     "execution_count": 19,
     "metadata": {},
     "output_type": "execute_result"
    }
   ],
   "source": [
    "import json\n",
    "import pandas\n",
    "\n",
    "with open('cptac2-subject-09CO022/gdc_subject_09CO022.json') as file:\n",
    "    gdc_subject_09CO022 = json.load(file)\n",
    "    \n",
    "pandas.DataFrame([gdc_subject_09CO022])"
   ]
  },
  {
   "cell_type": "markdown",
   "id": "18f550f5",
   "metadata": {},
   "source": [
    "## Loading the Python classes for the CRDC-H model\n",
    "\n",
    "We previously generated the Python DataClasses for the CRDC-H model. We can now load these DataClasses to "
   ]
  },
  {
   "cell_type": "code",
   "execution_count": 9,
   "id": "526068e8",
   "metadata": {},
   "outputs": [],
   "source": [
    "from crdch.python import entities"
   ]
  },
  {
   "cell_type": "markdown",
   "id": "b81a8bd7",
   "metadata": {},
   "source": [
    "## Convert the input data in pieces\n",
    "\n",
    "For demonstrative purposes, we'll start by translating pieces of this record into CRDC-H instance data.\n",
    "\n",
    "Let's start with the samples in the `samples` key (which correspond to a [Specimen](https://cancerdhc.github.io/ccdhmodel/entities/Specimen.html) in the CRDC-H model)."
   ]
  },
  {
   "cell_type": "code",
   "execution_count": 21,
   "id": "3c853f5a",
   "metadata": {},
   "outputs": [
    {
     "data": {
      "text/plain": [
       "{'biospecimen_anatomic_site': None,\n",
       " 'biospecimen_laterality': None,\n",
       " 'catalog_reference': None,\n",
       " 'composition': None,\n",
       " 'created_datetime': '2017-01-25T15:31:52.788719-06:00',\n",
       " 'current_weight': None,\n",
       " 'days_to_collection': None,\n",
       " 'days_to_sample_procurement': None,\n",
       " 'diagnosis_pathologically_confirmed': None,\n",
       " 'distance_normal_to_tumor': None,\n",
       " 'distributor_reference': None,\n",
       " 'freezing_method': None,\n",
       " 'growth_rate': None,\n",
       " 'initial_weight': None,\n",
       " 'intermediate_dimension': None,\n",
       " 'is_ffpe': None,\n",
       " 'longest_dimension': None,\n",
       " 'method_of_sample_procurement': None,\n",
       " 'oct_embedded': None,\n",
       " 'passage_count': None,\n",
       " 'pathology_report_uuid': None,\n",
       " 'preservation_method': None,\n",
       " 'sample_id': 'b12c257d-7409-4858-9384-c430929a075a',\n",
       " 'sample_type': 'Blood Derived Normal',\n",
       " 'sample_type_id': '10',\n",
       " 'shortest_dimension': None,\n",
       " 'state': 'released',\n",
       " 'submitter_id': '60805d52-8ca1-46d4-8101-0ad055',\n",
       " 'time_between_clamping_and_freezing': None,\n",
       " 'time_between_excision_and_freezing': None,\n",
       " 'tissue_type': 'Not Reported',\n",
       " 'tumor_code': None,\n",
       " 'tumor_code_id': None,\n",
       " 'tumor_descriptor': None,\n",
       " 'updated_datetime': '2019-10-24T07:59:21.887408-05:00'}"
      ]
     },
     "execution_count": 21,
     "metadata": {},
     "output_type": "execute_result"
    }
   ],
   "source": [
    "firstSample = gdc_subject_09CO022['samples'][0]\n",
    "firstSample"
   ]
  },
  {
   "cell_type": "code",
   "execution_count": 31,
   "id": "57f6f19c",
   "metadata": {},
   "outputs": [
    {
     "data": {
      "text/plain": [
       "Specimen(id='b12c257d-7409-4858-9384-c430929a075a', identifier=[], associated_project=None, specimen_type=None, analyte_type=CodeableConcept(coding=[Coding(code='Blood Derived Normal', display=None, system=None, version=None)], text=None), derived_from_specimen=[], derived_from_subject=None, source_material_type=None, cellular_composition=None, general_tissue_morphology=None, specific_tissue_morphology=None, current_weight=[], current_volume=[], analyte_concentration=None, analyte_concentration_method=None, matched_normal_flag=[], qualification_status_flag=None)"
      ]
     },
     "execution_count": 31,
     "metadata": {},
     "output_type": "execute_result"
    }
   ],
   "source": [
    "specimen = entities.Specimen(\n",
    "    id = firstSample['sample_id'],\n",
    "    analyte_type = entities.CodeableConcept(\n",
    "        entities.Coding(\n",
    "            firstSample['sample_type']\n",
    "        )\n",
    "    )\n",
    ")\n",
    "\n",
    "specimen"
   ]
  }
 ],
 "metadata": {
  "kernelspec": {
   "display_name": "Python 3",
   "language": "python",
   "name": "python3"
  },
  "language_info": {
   "codemirror_mode": {
    "name": "ipython",
    "version": 3
   },
   "file_extension": ".py",
   "mimetype": "text/x-python",
   "name": "python",
   "nbconvert_exporter": "python",
   "pygments_lexer": "ipython3",
   "version": "3.9.4"
  }
 },
 "nbformat": 4,
 "nbformat_minor": 5
}
