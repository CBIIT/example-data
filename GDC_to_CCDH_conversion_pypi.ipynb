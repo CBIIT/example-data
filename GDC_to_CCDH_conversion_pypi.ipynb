{
 "cells": [
  {
   "cell_type": "code",
   "execution_count": 2,
   "id": "849bd682",
   "metadata": {
    "ExecuteTime": {
     "end_time": "2021-09-28T15:34:38.469118Z",
     "start_time": "2021-09-28T15:34:37.240997Z"
    }
   },
   "outputs": [
    {
     "ename": "ModuleNotFoundError",
     "evalue": "No module named 'crdch_model'",
     "output_type": "error",
     "traceback": [
      "\u001b[0;31m---------------------------------------------------------------------------\u001b[0m",
      "\u001b[0;31mModuleNotFoundError\u001b[0m                       Traceback (most recent call last)",
      "\u001b[0;32m/var/folders/vt/f297tpjn6n1b6dwkcwhhnmxm0000gp/T/ipykernel_69648/3001013641.py\u001b[0m in \u001b[0;36m<module>\u001b[0;34m\u001b[0m\n\u001b[1;32m     17\u001b[0m \u001b[0;31m# required at Loading the Python classes for the CCDH model\u001b[0m\u001b[0;34m\u001b[0m\u001b[0;34m\u001b[0m\u001b[0;34m\u001b[0m\u001b[0m\n\u001b[1;32m     18\u001b[0m \u001b[0;31m# from ccdh import ccdhmodel as ccdh\u001b[0m\u001b[0;34m\u001b[0m\u001b[0;34m\u001b[0m\u001b[0;34m\u001b[0m\u001b[0m\n\u001b[0;32m---> 19\u001b[0;31m \u001b[0;32mimport\u001b[0m \u001b[0mcrdch_model\u001b[0m \u001b[0;32mas\u001b[0m \u001b[0mccdh\u001b[0m\u001b[0;34m\u001b[0m\u001b[0;34m\u001b[0m\u001b[0m\n\u001b[0m",
      "\u001b[0;31mModuleNotFoundError\u001b[0m: No module named 'crdch_model'"
     ]
    }
   ],
   "source": [
    "from linkml.generators.jsonldcontextgen import ContextGenerator\n",
    "\n",
    "# aren't the dumpers in a differnt path in the non-CCDH linkml now?\n",
    "from linkml_runtime.dumpers import json_dumper\n",
    "from linkml_runtime.dumpers import yaml_dumper\n",
    "\n",
    "# was this problematic in a GH action? \n",
    "from rdflib import Graph\n",
    "# /Users/MAM/.local/share/virtualenvs/example-data-WqQDUTxX/lib/python3.9/site-packages/rdflib_jsonld/__init__.py:9: DeprecationWarning: The rdflib-jsonld package has been integrated into rdflib as of rdflib==6.0.0.  Please remove rdflib-jsonld from your project's dependencies.\n",
    "#   warnings.warn(\n",
    "\n",
    "import json\n",
    "import pandas\n",
    "import sys\n",
    "\n",
    "# change this!\n",
    "# required at Loading the Python classes for the CCDH model\n",
    "# from ccdh import ccdhmodel as ccdh\n",
    "import crdch_model as ccdh"
   ]
  },
  {
   "cell_type": "markdown",
   "id": "abd7d977",
   "metadata": {},
   "source": [
    "# GDC to CCDH Conversion\n",
    "\n",
    "This notebook demonstrates one method for converting GDC data into CCDH (CRDC-H) instance data: by reading node data as JSON and writing it out in the LinkML model. The LinkML can be used to [generate](https://github.com/linkml/linkml#python-dataclasses) [Python Data Classes](https://docs.python.org/3/library/dataclasses.html), which can then be exported in JSON-LD, a JSON-based format used to represent RDF data."
   ]
  },
  {
   "cell_type": "markdown",
   "id": "e778aa7f",
   "metadata": {},
   "source": [
    "## Why Python Data Classes?\n",
    "\n",
    "Python Data Classes provide several useful features that we will demonstrate below:\n",
    "\n",
    "1. **Python Data Classes are generated automatically.** Rather than requiring additional effort to maintain a Python library for accessing the CCDH model, the [LinkML toolset](https://linkml.github.io/) can generate the Python Data Classes directly from the CCDH model, ensuring that users can always access the most recent version of the CCDH model programmatically. This also allows us to maintain Python Data Classes for accessing previous versions of the CCDH model, which we plan to use to implement [data migration between CCDH model versions](https://cancerdhc.github.io/ccdhmodel/latest/data-migration/)\n",
    "2. **Python Data Classes provide validation on creation.** As we will demonstrate below, creating a Python Data Class requires that all required attributes are filled in, and all fields are filled in the format or enumeration expected.\n",
    "3. **Easy to use in Python IDEs.** Since the generated Python Data Classes includes model documentation in Python, users using Python IDEs can see available options and documentation while writing their code."
   ]
  },
  {
   "cell_type": "markdown",
   "id": "27b94e6a",
   "metadata": {},
   "source": [
    "## Setup\n",
    "\n",
    "We start by installing the [LinkML](https://pypi.org/project/linkml/) and [pandas](https://pypi.org/project/pandas/) packages. This is included in the pipenv file included in this source repository: if you used `pipenv run jupyter notebook` to start this Notebook, you should be set up already. If not, you may need to uncomment these following lines to install these packages.\n",
    "\n",
    "(Note: if you are running this on macOS 11 \"Big Sur\", you might need to set `SYSTEM_VERSION_COMPAT=1` in your Terminal environment before running `pipenv install`)."
   ]
  },
  {
   "cell_type": "code",
   "execution_count": null,
   "id": "0b848016",
   "metadata": {
    "ExecuteTime": {
     "end_time": "2021-09-28T15:30:01.546951Z",
     "start_time": "2021-09-28T15:30:01.544770Z"
    }
   },
   "outputs": [],
   "source": [
    "import sys\n",
    "\n",
    "# Install LinkML.\n",
    "# We use our own fork of LinkML, but all changes made to this repository will eventually be sent\n",
    "# upstream to the main LinkML release.\n",
    "#!{sys.executable} -m pip install linkml\n",
    "\n",
    "# Install pandas.\n",
    "#!{sys.executable} -m pip install pandas\n",
    "\n",
    "# Install rdflib.\n",
    "#!{sys.executable} -m pip install rdflib\n",
    "\n",
    "# Install JSON Schema.\n",
    "#!{sys.executable} -m pip install jsonschema"
   ]
  },
  {
   "cell_type": "markdown",
   "id": "a6afbfa0",
   "metadata": {},
   "source": [
    "## Loading GDC data as an example\n",
    "\n",
    "In this demonstration, we will use a dataset of 560 cases relating to head and neck cancers previously downloaded from the public GDC API as [documented elsewhere in this repository](https://github.com/cancerDHC/example-data/blob/main/head-and-mouth/Head%20and%20Mouth%20Cancer%20Datasets.ipynb)."
   ]
  },
  {
   "cell_type": "code",
   "execution_count": null,
   "id": "8e146c12",
   "metadata": {
    "ExecuteTime": {
     "end_time": "2021-09-28T15:30:01.641789Z",
     "start_time": "2021-09-28T15:30:01.549866Z"
    },
    "scrolled": false
   },
   "outputs": [],
   "source": [
    "import json\n",
    "import pandas\n",
    "\n",
    "with open('head-and-mouth/gdc-head-and-mouth.json') as file:\n",
    "    gdc_head_and_mouth = json.load(file)\n",
    "    \n",
    "pandas.DataFrame(gdc_head_and_mouth)"
   ]
  },
  {
   "cell_type": "markdown",
   "id": "18f550f5",
   "metadata": {},
   "source": [
    "## Loading the Python classes for the CCDH model\n",
    "\n",
    "The Python DataClasses for the CCDH model as available at https://github.com/cancerDHC/ccdhmodel/. The Python DataClasses cannot be directly loaded from this GitHub repository yet, but we [plan to implement this functionality soon](https://github.com/cancerDHC/ccdhmodel/issues/40). For now, we have copied the file into this repository so we can import them here.\n",
    "\n",
    "Note that the Python Data Classes includes documentation on entities and enumerations."
   ]
  },
  {
   "cell_type": "code",
   "execution_count": null,
   "id": "a16e6db1",
   "metadata": {
    "ExecuteTime": {
     "end_time": "2021-09-28T15:30:01.841719Z",
     "start_time": "2021-09-28T15:30:01.643343Z"
    },
    "scrolled": false
   },
   "outputs": [],
   "source": [
    "# see very first import block in notebook for replacement\n",
    "# from ccdh import ccdhmodel as ccdh\n",
    "\n",
    "# Documentation for an entity.\n",
    "print(f\"Documentation for Specimen: {ccdh.Specimen.__doc__}\")\n",
    "\n",
    "# Documentation for an enumeration.\n",
    "print(f\"Documentation for Specimen.specimen_type: {ccdh.EnumCCDHSpecimenSpecimenType.__doc__}\")\n",
    "\n",
    "# List of permissible values for Specimen.specimen_type\n",
    "print(\"Permissible values in enumeration Specimen.specimen_type:\")\n",
    "pvalues = [pv for key, pv in ccdh.EnumCCDHSpecimenSpecimenType.__dict__.items() if isinstance(pv, ccdh.PermissibleValue)]\n",
    "for pv in pvalues:\n",
    "    print(f' - Value \"{pv.text}\": {pv.description}')"
   ]
  },
  {
   "cell_type": "markdown",
   "id": "46c638a1",
   "metadata": {},
   "source": [
    "## Transforming GDC cases into CCDH Research Subject\n",
    "\n",
    "The primary transformation we will demonstrate here is transforming a [GDC case](https://docs.gdc.cancer.gov/Data_Dictionary/viewer/#?view=table-definition-view&id=case) into a [CCDH Research Subject](https://cancerdhc.github.io/ccdhmodel/latest/ResearchSubject/). To do this, we need to translate three additional components as well:\n",
    "* Each GDC case includes a diagnosis, which we need to transform into a [CCDH Diagnosis](https://cancerdhc.github.io/ccdhmodel/latest/Diagnosis/).\n",
    "* Each GDC diagnosis includes a description of the cancer stage (see properties named `ajcc_*` in [the GDC documentation](https://docs.gdc.cancer.gov/Data_Dictionary/viewer/#?view=table-definition-view&id=diagnosis)). We will translate this into a [CCDH Cancer Stage Observation Set](https://cancerdhc.github.io/ccdhmodel/latest/CancerStageObservationSet/).\n",
    "* Each GDC case contains a hierarchy of samples, portions, analytes, aliquots and slides. For the purposes of this demonstration, we will focus on transforming only the top-level specimens into [CCDH Specimens](https://cancerdhc.github.io/ccdhmodel/latest/Specimen/), but the same method can be used to transform other parts of the hierarchy. We plan to [include that transformation](https://github.com/cancerDHC/example-data/issues/6) in this tutorial eventually. Note that in our model, specimens are associated with diagnoses rather than directly with Research Subjects.\n",
    "\n",
    "The CCDH Python Data Classes help in writing these transformation methods by applying validation on the data and ensuring that constraints (such as the required fields) are met. We begin by defining a transformation for creating a [CCDH BodySite](https://cancerdhc.github.io/ccdhmodel/latest/BodySite/), which we also use to demonstrate the validation features available on CCDH Python Data Classes."
   ]
  },
  {
   "cell_type": "code",
   "execution_count": null,
   "id": "76578a61",
   "metadata": {
    "ExecuteTime": {
     "end_time": "2021-09-28T15:30:01.853311Z",
     "start_time": "2021-09-28T15:30:01.853297Z"
    }
   },
   "outputs": [],
   "source": [
    "def create_body_site(site_name):\n",
    "    \"\"\" Create a CCDH BodySite based on the name of a site in the human body.\"\"\"\n",
    "    \n",
    "    # Accept 'None'.\n",
    "    if site_name is None:\n",
    "        return None\n",
    "    \n",
    "    # Some body sites are not currently included in the CCDH model. We will need to translate these sites\n",
    "    # into values that *are* included in the CCDH model.\n",
    "    site_mappings = {\n",
    "        'Larynx, NOS': ccdh.EnumCCDHBodySiteSite.Larynx\n",
    "    }\n",
    "    \n",
    "    # Map values if needed. Otherwise, pass them through unmapped.\n",
    "    if site_name in site_mappings:\n",
    "        return ccdh.BodySite(site=(site_mappings[site_name]))\n",
    "    \n",
    "    return ccdh.BodySite(site=site_name)\n",
    "\n",
    "# Try to create a body site for a site name not currently included in the CCDH model.\n",
    "try:\n",
    "    create_body_site('Laryn') # Note misspelling.\n",
    "except ValueError as v:\n",
    "    print(f'Could not create BodySite: {v}')\n",
    "\n",
    "# Using a valid name generates no errors.\n",
    "create_body_site('Larynx')    \n",
    "\n",
    "# Using a mapped name generates no errors, as it is mapped to a valid name.\n",
    "create_body_site('Larynx, NOS')"
   ]
  },
  {
   "cell_type": "markdown",
   "id": "7ff65b75",
   "metadata": {},
   "source": [
    "We need a more sophisticated transformation method for transforming the GDC cancer stage information into [CCDH Cancer Stage Observation Set](https://cancerdhc.github.io/ccdhmodel/latest/CancerStageObservationSet/). Each observation set is made up of a number of [CCDH Cancer Stage Observations](https://cancerdhc.github.io/ccdhmodel/latest/CancerStageObservation/), each of which represents a different type of observation."
   ]
  },
  {
   "cell_type": "code",
   "execution_count": null,
   "id": "2d661175",
   "metadata": {
    "ExecuteTime": {
     "end_time": "2021-09-28T15:30:01.854718Z",
     "start_time": "2021-09-28T15:30:01.854706Z"
    },
    "scrolled": true
   },
   "outputs": [],
   "source": [
    "def create_stage_observation(type, value):\n",
    "    \"\"\" Create a CCDHCancerStageObservation from a type of observation and a codeable concept.\"\"\"\n",
    "    # As with the body site example above, we need to map GDC values into the values\n",
    "    # allowed under the CCDH model.\n",
    "    stage_mappings = {\n",
    "        'not reported': 'Not Reported',\n",
    "        'unknown': 'Unknown',\n",
    "        'stage i': 'Stage I',\n",
    "        'stage ii': 'Stage II',\n",
    "        'stage iii': 'Stage III',\n",
    "        'stage iva': 'Stage IVA',\n",
    "        'stage ivb': 'Stage IVB',\n",
    "        'stage ivc': 'Stage IVC',\n",
    "    }\n",
    "    \n",
    "    if value in stage_mappings:\n",
    "        return ccdh.CancerStageObservation(\n",
    "            observation_type=type,\n",
    "            valueCodeableConcept=stage_mappings[value]\n",
    "        )\n",
    "    \n",
    "    return ccdh.CancerStageObservation(\n",
    "        observation_type=type,\n",
    "        valueCodeableConcept=value\n",
    "    )\n",
    "\n",
    "def create_stage_from_gdc(diagnosis):\n",
    "    cancer_stage_method_type = None\n",
    "    if diagnosis.get('ajcc_staging_system_edition') == '7th':\n",
    "        cancer_stage_method_type = 'AJCC staging system 7th edition'\n",
    "\n",
    "    # Create an observation set \n",
    "    obs = ccdh.CancerStageObservationSet(\n",
    "        method_type=cancer_stage_method_type\n",
    "    )\n",
    "    \n",
    "    # Add observations for every type of observation in the GDC diagnosis.\n",
    "    if diagnosis.get('tumor_stage') is not None:\n",
    "        obs.observations.append(create_stage_observation('Overall', diagnosis.get('tumor_stage')))\n",
    "        \n",
    "    if diagnosis.get('ajcc_clinical_stage') is not None:\n",
    "        obs.observations.append(create_stage_observation('Clinical Overall', diagnosis.get('ajcc_clinical_stage')))\n",
    "        \n",
    "    if diagnosis.get('ajcc_clinical_t') is not None:\n",
    "        obs.observations.append(create_stage_observation('Clinical Tumor (T)', diagnosis.get('ajcc_clinical_t')))\n",
    "        \n",
    "    if diagnosis.get('ajcc_clinical_n') is not None:\n",
    "        obs.observations.append(create_stage_observation('Clinical Node (N)', diagnosis.get('ajcc_clinical_n')))\n",
    "        \n",
    "    if diagnosis.get('ajcc_clinical_m') is not None:\n",
    "        obs.observations.append(create_stage_observation('Clinical Metastasis (M)', diagnosis.get('ajcc_clinical_m')))\n",
    "    \n",
    "    if diagnosis.get('ajcc_pathologic_stage') is not None:\n",
    "        obs.observations.append(create_stage_observation('Pathological Overall', diagnosis.get('ajcc_pathologic_stage')))\n",
    "        \n",
    "    if diagnosis.get('ajcc_pathologic_t') is not None:\n",
    "        obs.observations.append(create_stage_observation('Pathological Tumor (T)', diagnosis.get('ajcc_pathologic_t')))\n",
    "        \n",
    "    if diagnosis.get('ajcc_pathologic_n') is not None:\n",
    "        obs.observations.append(create_stage_observation('Pathological Node (N)', diagnosis.get('ajcc_pathologic_n')))\n",
    "        \n",
    "    if diagnosis.get('ajcc_pathologic_m') is not None:\n",
    "        obs.observations.append(create_stage_observation('Pathological Metastasis (M)', diagnosis.get('ajcc_pathologic_m')))\n",
    "    \n",
    "    return obs\n",
    "\n",
    "# Test transform with the diagnosis from the first loaded case.\n",
    "# Note that the resulting CancerStageObservationSet contains descriptions for the concepts included in it.\n",
    "# example_observation_set = create_stage_from_gdc(gdc_head_and_mouth[131]['diagnoses'][0], ccdh.Subject(id='1234'))\n",
    "example_observation_set = create_stage_from_gdc(gdc_head_and_mouth[131]['diagnoses'][0])\n",
    "example_observation_set"
   ]
  },
  {
   "cell_type": "markdown",
   "id": "07afefa2",
   "metadata": {},
   "source": [
    "Reading Python Data Classes in its default text output can be difficult! However, we can use LinkML's [YAML](https://en.wikipedia.org/wiki/YAML) dumper to display this Cancer Stage Observation Set as a YAML string. YAML objects are a good way to export LinkML data, and include detailed descriptions of all the enumerations referenced from this object. We currently include basic descriptions for the permissible values (see e.g. \"N1 Stage Finding\" below), but we will include more detailed descriptions in the future."
   ]
  },
  {
   "cell_type": "code",
   "execution_count": null,
   "id": "14d23f3f",
   "metadata": {
    "ExecuteTime": {
     "end_time": "2021-09-28T15:30:01.855793Z",
     "start_time": "2021-09-28T15:30:01.855781Z"
    }
   },
   "outputs": [],
   "source": [
    "from linkml_runtime.dumpers import yaml_dumper\n",
    "\n",
    "print(yaml_dumper.dumps(example_observation_set))"
   ]
  },
  {
   "cell_type": "markdown",
   "id": "7d65dc11",
   "metadata": {},
   "source": [
    "Diagnoses can contain samples, which we transform into [CCDH Samples](https://cancerdhc.github.io/ccdhmodel/latest/Specimen/)."
   ]
  },
  {
   "cell_type": "code",
   "execution_count": null,
   "id": "d5e41d21",
   "metadata": {
    "ExecuteTime": {
     "end_time": "2021-09-28T15:30:01.856958Z",
     "start_time": "2021-09-28T15:30:01.856946Z"
    }
   },
   "outputs": [],
   "source": [
    "def transform_sample_to_specimen(sample):\n",
    "    \"\"\"\n",
    "    A method for transforming a GDC Sample into CCDH Specimen.\n",
    "    \"\"\"\n",
    "    specimen = ccdh.Specimen(id = sample.get('sample_id'))\n",
    "    specimen.source_material_type = sample.get('sample_type')\n",
    "    specimen.general_tissue_morphology = sample.get('tissue_type')\n",
    "    specimen.specific_tissue_morphology = sample.get('tumor_code')\n",
    "    specimen.tumor_status_at_collection = sample.get('tumor_descriptor')\n",
    "    specimen.creation_activity = ccdh.SpecimenCreationActivity(\n",
    "        date_ended=ccdh.TimePoint(\n",
    "            dateTime=sample.get('created_datetime')\n",
    "        )\n",
    "    )\n",
    "    return specimen\n",
    "\n",
    "# Let's try creating a test specimen.\n",
    "test_specimen = transform_sample_to_specimen(gdc_head_and_mouth[2]['samples'][0])\n",
    "test_specimen"
   ]
  },
  {
   "cell_type": "markdown",
   "id": "775f5d35",
   "metadata": {},
   "source": [
    "We can now transform an entire diagnosis into a [CCDH Diagnosis](https://cancerdhc.github.io/ccdhmodel/latest/Diagnosis/)."
   ]
  },
  {
   "cell_type": "code",
   "execution_count": null,
   "id": "bf62937c",
   "metadata": {
    "ExecuteTime": {
     "end_time": "2021-09-28T15:30:01.858157Z",
     "start_time": "2021-09-28T15:30:01.858143Z"
    }
   },
   "outputs": [],
   "source": [
    "def transform_diagnosis(diagnosis, case):\n",
    "    ccdh_diagnosis = ccdh.Diagnosis(\n",
    "        id=diagnosis.get('diagnosis_id'),\n",
    "        condition=diagnosis.get('primary_diagnosis'),\n",
    "        morphology=diagnosis.get('morphology'),\n",
    "        grade=diagnosis.get('grade'),\n",
    "        stage=create_stage_from_gdc(diagnosis),\n",
    "        year_at_diagnosis=diagnosis.get('year_of_diagnosis'),\n",
    "        related_specimen=[\n",
    "            transform_sample_to_specimen(\n",
    "                sample\n",
    "            ) for sample in case.get('samples')\n",
    "        ]\n",
    "    )\n",
    "    ccdh_diagnosis.identifier = [\n",
    "        ccdh.Identifier(\n",
    "            system='GDC-submitter-id',\n",
    "            value=diagnosis.get('submitter_id')\n",
    "        )\n",
    "    ]\n",
    "    \n",
    "    if 'primary_site' in case and case['primary_site'] != '':\n",
    "        body_site = create_body_site(case['primary_site'])\n",
    "        if body_site is not None:\n",
    "            ccdh_diagnosis.metastatic_site.append(body_site)\n",
    "\n",
    "    return ccdh_diagnosis\n",
    "\n",
    "example_diagnosis = transform_diagnosis(gdc_head_and_mouth[131]['diagnoses'][0], gdc_head_and_mouth[131])\n",
    "print(yaml_dumper.dumps(example_diagnosis))"
   ]
  },
  {
   "cell_type": "markdown",
   "id": "772309f4",
   "metadata": {},
   "source": [
    "## Exporting Python Data Classes as JSON-LD\n",
    "\n",
    "Python Data Classes can be exported as [JSON-LD](https://en.wikipedia.org/wiki/JSON-LD), allowing CCDH instance data to be shared in a [JSON](https://en.wikipedia.org/wiki/JSON)-based [RDF](https://en.wikipedia.org/wiki/Resource_Description_Framework) format. RDF formats are particularly useful in sharing data, since they allow us to share [Linked Data](https://en.wikipedia.org/wiki/Linked_data) that can be understood by other consumers."
   ]
  },
  {
   "cell_type": "code",
   "execution_count": null,
   "id": "c9d31519",
   "metadata": {
    "ExecuteTime": {
     "end_time": "2021-09-28T15:30:01.859237Z",
     "start_time": "2021-09-28T15:30:01.859225Z"
    },
    "scrolled": true
   },
   "outputs": [],
   "source": [
    "from linkml.generators.jsonldcontextgen import ContextGenerator\n",
    "from linkml_runtime.dumpers import json_dumper\n",
    "\n",
    "jsonldContext = ContextGenerator('ccdh/ccdhmodel.yaml').serialize()\n",
    "jsonldContextAsDict = json.loads(jsonldContext)\n",
    "\n",
    "# Display the example diagnosis we constructed in a previous step.\n",
    "print(json_dumper.dumps(example_diagnosis, jsonldContext))"
   ]
  },
  {
   "cell_type": "markdown",
   "id": "b687ce3a",
   "metadata": {},
   "source": [
    "We can also transform all the diagnoses in this file and store them in a file as JSON-LD."
   ]
  },
  {
   "cell_type": "code",
   "execution_count": null,
   "id": "1aa40681",
   "metadata": {
    "ExecuteTime": {
     "end_time": "2021-09-28T15:30:01.860324Z",
     "start_time": "2021-09-28T15:30:01.860311Z"
    }
   },
   "outputs": [],
   "source": [
    "diagnoses = []\n",
    "for case in gdc_head_and_mouth:\n",
    "    for diagnosis in case['diagnoses']:\n",
    "        diagnoses.append(transform_diagnosis(diagnosis, case))\n",
    "\n",
    "jsonld = json_dumper.dumps({\n",
    "    '@graph': diagnoses,\n",
    "    '@context': jsonldContextAsDict\n",
    "})\n",
    "with open('head-and-mouth/diagnoses.jsonld', 'w') as file:\n",
    "    file.write(jsonld)"
   ]
  },
  {
   "cell_type": "markdown",
   "id": "91570185",
   "metadata": {},
   "source": [
    "## Converting JSON-LD to Turtle\n",
    "\n",
    "While JSON-LD is a full dialect of RDF, people are more familiar looking at RDF in a format like [Turtle](https://en.wikipedia.org/wiki/Turtle_(syntax)). We can convert the generated JSON-LD output into Turtle by using the [rdflib](https://rdflib.readthedocs.io/en/stable/) package.\n",
    "\n",
    "Note that this section is intended to be illustrative -- these are *not* finalized IRIs for properties and entities. We will choose IRIs and develop a canonical RDF representation in future phases of development."
   ]
  },
  {
   "cell_type": "code",
   "execution_count": null,
   "id": "3300fabd",
   "metadata": {
    "ExecuteTime": {
     "end_time": "2021-09-28T15:30:01.861438Z",
     "start_time": "2021-09-28T15:30:01.861422Z"
    }
   },
   "outputs": [],
   "source": [
    "# We can read this JSON-LD in Turtle.\n",
    "from rdflib import Graph\n",
    "\n",
    "g = Graph()\n",
    "g.parse(data=jsonld, format=\"json-ld\")\n",
    "rdfAsTurtle = g.serialize(format=\"turtle\").decode()\n",
    "print(''.join(rdfAsTurtle[0:1000]))\n",
    "with open('head-and-mouth/diagnoses.ttl', 'w') as file:\n",
    "    file.write(rdfAsTurtle)"
   ]
  }
 ],
 "metadata": {
  "kernelspec": {
   "display_name": "Python 3 (ipykernel)",
   "language": "python",
   "name": "python3"
  },
  "language_info": {
   "codemirror_mode": {
    "name": "ipython",
    "version": 3
   },
   "file_extension": ".py",
   "mimetype": "text/x-python",
   "name": "python",
   "nbconvert_exporter": "python",
   "pygments_lexer": "ipython3",
   "version": "3.9.6"
  },
  "varInspector": {
   "cols": {
    "lenName": 16,
    "lenType": 16,
    "lenVar": 40
   },
   "kernels_config": {
    "python": {
     "delete_cmd_postfix": "",
     "delete_cmd_prefix": "del ",
     "library": "var_list.py",
     "varRefreshCmd": "print(var_dic_list())"
    },
    "r": {
     "delete_cmd_postfix": ") ",
     "delete_cmd_prefix": "rm(",
     "library": "var_list.r",
     "varRefreshCmd": "cat(var_dic_list()) "
    }
   },
   "types_to_exclude": [
    "module",
    "function",
    "builtin_function_or_method",
    "instance",
    "_Feature"
   ],
   "window_display": false
  }
 },
 "nbformat": 4,
 "nbformat_minor": 5
}
