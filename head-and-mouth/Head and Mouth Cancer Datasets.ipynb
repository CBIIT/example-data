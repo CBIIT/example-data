{
 "cells": [
  {
   "cell_type": "markdown",
   "id": "bf7462b8",
   "metadata": {},
   "source": [
    "# Head and Mouth Cancer Datasets\n",
    "\n",
    "This Jupyter Notebook builds a dataset relating to head and mouth cancers. This category was chosen because it is easy to define on the Proteomic Data Commons and the Imaging Data Commons, but will need to be manually aggregated on the Genomic Data Commons.\n",
    "\n",
    "## Dataset definition\n",
    "\n",
    "This dataset is defined as:\n",
    "* On the Proteomic Data Commons: all data whose [`primary_site` is set to `Head and Neck`](https://pdc.cancer.gov/pdc/browse/filters/primary_site:Head+and+Neck)\n",
    "* On the Imaging Data Commons: all data whose [Primary Site Location is `Head-Neck`](https://portal.imaging.datacommons.cancer.gov/explore/?filters_for_load=%5B%7B%22filters%22:%5B%7B%22id%22:%22128%22,%22values%22:%5B%22Head-Neck%22%5D%7D%5D%7D%5D)\n",
    "* On the Genomics Data Commons: [all data](https://portal.gdc.cancer.gov/exploration?filters=%7B%22op%22%3A%22and%22%2C%22content%22%3A%5B%7B%22op%22%3A%22in%22%2C%22content%22%3A%7B%22field%22%3A%22cases.primary_site%22%2C%22value%22%3A%5B%22base%20of%20tongue%22%2C%22floor%20of%20mouth%22%2C%22gum%22%2C%22hypopharynx%22%2C%22larynx%22%2C%22lip%22%2C%22nasal%20cavity%20and%20middle%20ear%22%2C%22nasopharynx%22%2C%22oropharynx%22%2C%22other%20and%20ill-defined%20sites%20in%20lip%2C%20oral%20cavity%20and%20pharynx%22%2C%22other%20and%20unspecified%20major%20salivary%20glands%22%2C%22other%20and%20unspecified%20parts%20of%20mouth%22%2C%22other%20and%20unspecified%20parts%20of%20tongue%22%2C%22palate%22%2C%22tonsil%22%5D%7D%7D%5D%7D) whose `primary_site` is set to one of:\n",
    "    * [`Other and unspecified parts of major salivary glands`](https://portal.gdc.cancer.gov/exploration?filters=%7B%22op%22%3A%22and%22%2C%22content%22%3A%5B%7B%22op%22%3A%22in%22%2C%22content%22%3A%7B%22field%22%3A%22cases.primary_site%22%2C%22value%22%3A%5B%22other%20and%20unspecified%20major%20salivary%20glands%22%5D%7D%7D%5D%7D)\n",
    "    * [`Other and ill-defined sites in lip, oral cavity and pharynx`](https://portal.gdc.cancer.gov/exploration?filters=%7B%22op%22%3A%22and%22%2C%22content%22%3A%5B%7B%22op%22%3A%22in%22%2C%22content%22%3A%7B%22field%22%3A%22cases.primary_site%22%2C%22value%22%3A%5B%22other%20and%20ill-defined%20sites%20in%20lip%2C%20oral%20cavity%20and%20pharynx%22%5D%7D%7D%5D%7D)\n",
    "    * [`Oropharynx`](https://portal.gdc.cancer.gov/exploration?filters=%7B%22op%22%3A%22and%22%2C%22content%22%3A%5B%7B%22op%22%3A%22in%22%2C%22content%22%3A%7B%22field%22%3A%22cases.primary_site%22%2C%22value%22%3A%5B%22oropharynx%22%5D%7D%7D%5D%7D)\n",
    "    * [`Larynx`](https://portal.gdc.cancer.gov/exploration?filters=%7B%22op%22%3A%22and%22%2C%22content%22%3A%5B%7B%22op%22%3A%22in%22%2C%22content%22%3A%7B%22field%22%3A%22cases.primary_site%22%2C%22value%22%3A%5B%22larynx%22%5D%7D%7D%5D%7D)\n",
    "    * [`Other and unspecified parts of tongue`](https://portal.gdc.cancer.gov/exploration?filters=%7B%22op%22%3A%22and%22%2C%22content%22%3A%5B%7B%22op%22%3A%22in%22%2C%22content%22%3A%7B%22field%22%3A%22cases.primary_site%22%2C%22value%22%3A%5B%22other%20and%20unspecified%20parts%20of%20tongue%22%5D%7D%7D%5D%7D)\n",
    "    * [`Nasopharynx`](https://portal.gdc.cancer.gov/exploration?filters=%7B%22op%22%3A%22and%22%2C%22content%22%3A%5B%7B%22op%22%3A%22in%22%2C%22content%22%3A%7B%22field%22%3A%22cases.primary_site%22%2C%22value%22%3A%5B%22nasopharynx%22%5D%7D%7D%5D%7D)\n",
    "    * [`Floor of mouth`](https://portal.gdc.cancer.gov/exploration?filters=%7B%22op%22%3A%22and%22%2C%22content%22%3A%5B%7B%22op%22%3A%22in%22%2C%22content%22%3A%7B%22field%22%3A%22cases.primary_site%22%2C%22value%22%3A%5B%22floor%20of%20mouth%22%5D%7D%7D%5D%7D)\n",
    "    * [`Tonsil`](https://portal.gdc.cancer.gov/exploration?filters=%7B%22op%22%3A%22and%22%2C%22content%22%3A%5B%7B%22op%22%3A%22in%22%2C%22content%22%3A%7B%22field%22%3A%22cases.primary_site%22%2C%22value%22%3A%5B%22tonsil%22%5D%7D%7D%5D%7D)\n",
    "    * [`Other and unspecified parts of mouth`](https://portal.gdc.cancer.gov/exploration?filters=%7B%22op%22%3A%22and%22%2C%22content%22%3A%5B%7B%22op%22%3A%22in%22%2C%22content%22%3A%7B%22field%22%3A%22cases.primary_site%22%2C%22value%22%3A%5B%22other%20and%20unspecified%20parts%20of%20mouth%22%5D%7D%7D%5D%7D)\n",
    "    * [`Nasal cavity and middle ear`](https://portal.gdc.cancer.gov/exploration?filters=%7B%22op%22%3A%22and%22%2C%22content%22%3A%5B%7B%22op%22%3A%22in%22%2C%22content%22%3A%7B%22field%22%3A%22cases.primary_site%22%2C%22value%22%3A%5B%22nasal%20cavity%20and%20middle%20ear%22%5D%7D%7D%5D%7D)\n",
    "    * [`Hypopharynx`](https://portal.gdc.cancer.gov/exploration?filters=%7B%22op%22%3A%22and%22%2C%22content%22%3A%5B%7B%22op%22%3A%22in%22%2C%22content%22%3A%7B%22field%22%3A%22cases.primary_site%22%2C%22value%22%3A%5B%22hypopharynx%22%5D%7D%7D%5D%7D)\n",
    "    * [`Base of tongue`](https://portal.gdc.cancer.gov/exploration?filters=%7B%22op%22%3A%22and%22%2C%22content%22%3A%5B%7B%22op%22%3A%22in%22%2C%22content%22%3A%7B%22field%22%3A%22cases.primary_site%22%2C%22value%22%3A%5B%22base%20of%20tongue%22%5D%7D%7D%5D%7D)\n",
    "    * [`Gum`](https://portal.gdc.cancer.gov/exploration?filters=%7B%22op%22%3A%22and%22%2C%22content%22%3A%5B%7B%22op%22%3A%22in%22%2C%22content%22%3A%7B%22field%22%3A%22cases.primary_site%22%2C%22value%22%3A%5B%22gum%22%5D%7D%7D%5D%7D)\n",
    "    * [`Lip`](https://portal.gdc.cancer.gov/exploration?filters=%7B%22op%22%3A%22and%22%2C%22content%22%3A%5B%7B%22op%22%3A%22in%22%2C%22content%22%3A%7B%22field%22%3A%22cases.primary_site%22%2C%22value%22%3A%5B%22lip%22%5D%7D%7D%5D%7D)\n",
    "    * [`Palate`](https://portal.gdc.cancer.gov/exploration?filters=%7B%22op%22%3A%22and%22%2C%22content%22%3A%5B%7B%22op%22%3A%22in%22%2C%22content%22%3A%7B%22field%22%3A%22cases.primary_site%22%2C%22value%22%3A%5B%22palate%22%5D%7D%7D%5D%7D)\n",
    "\n",
    "Note that we specifically don't include the brain, eye, trachea or esophagus -- please let us know if you think they should be included in this dataset."
   ]
  },
  {
   "cell_type": "code",
   "execution_count": null,
   "id": "7ea1a73a",
   "metadata": {},
   "outputs": [],
   "source": []
  }
 ],
 "metadata": {
  "kernelspec": {
   "display_name": "Python 3",
   "language": "python",
   "name": "python3"
  },
  "language_info": {
   "codemirror_mode": {
    "name": "ipython",
    "version": 3
   },
   "file_extension": ".py",
   "mimetype": "text/x-python",
   "name": "python",
   "nbconvert_exporter": "python",
   "pygments_lexer": "ipython3",
   "version": "3.9.4"
  }
 },
 "nbformat": 4,
 "nbformat_minor": 5
}
